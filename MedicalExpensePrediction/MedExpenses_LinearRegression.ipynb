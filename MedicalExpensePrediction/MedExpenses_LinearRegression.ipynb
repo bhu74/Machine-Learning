{
 "cells": [
  {
   "cell_type": "markdown",
   "id": "4c6490ea",
   "metadata": {},
   "source": [
    "## Medical Expense Prediction\n",
    "\n",
    "Medical expenses is one of the major expenses in an individual's life. We know that one's life style and various physiological charactreristics causes diseases or ailments one can have and these ailments influence medical expanses. According to various studies, major factors that contribute to higher expenses in personal medical care include smoking, aging, high BMI. In this study, we aim to find a correlation between personal medical expenses and different factors, and compare them. Then we use the prominent attributes as predictors to predict medical expenses by creating linear regression models."
   ]
  },
  {
   "cell_type": "code",
   "execution_count": 1,
   "id": "2da58cc2",
   "metadata": {},
   "outputs": [],
   "source": [
    "# Import required libraries\n",
    "import pandas as pd\n",
    "import numpy as np\n",
    "\n",
    "from sklearn.model_selection import train_test_split\n",
    "from sklearn.preprocessing import MinMaxScaler, PolynomialFeatures\n",
    "from sklearn.linear_model import LinearRegression, Lasso, Ridge\n",
    "from sklearn.metrics import mean_squared_error, r2_score"
   ]
  },
  {
   "cell_type": "code",
   "execution_count": 2,
   "id": "5d93bd09",
   "metadata": {},
   "outputs": [],
   "source": [
    "# Set path and read data file\n",
    "insurance_data = pd.read_csv(\"medical_insurance.csv\", header=0)\n",
    "insurance_data.drop('Unnamed: 0', axis=1, inplace=True)"
   ]
  },
  {
   "cell_type": "markdown",
   "id": "81309bcb",
   "metadata": {},
   "source": [
    "Following are the details of each feature/attribute of the given dataset.\n",
    "\n",
    "**age:** age of primary beneficiary\n",
    "\n",
    "**sex:** gender - female, male\n",
    "\n",
    "**bmi:** Body mass index, providing an understanding of body, weights that are relatively high or low relative to height, objective index of body weight (kg / m ^ 2) using the ratio of height to weight, ideally 18.5 to 24.9\n",
    "\n",
    "**children:** Number of children / Number of dependents\n",
    "\n",
    "**smoker:** Smoking / non-smoker\n",
    "\n",
    "**region:** the beneficiary's residential area in the US, northeast, southeast, southwest, northwest.\n",
    "\n",
    "**charges:** Individual medical costs billed by health insurance"
   ]
  },
  {
   "cell_type": "code",
   "execution_count": 3,
   "id": "bba1ee26",
   "metadata": {},
   "outputs": [
    {
     "name": "stdout",
     "output_type": "stream",
     "text": [
      "Columns in original data frame:\n",
      " ['age' 'sex' 'bmi' 'children' 'smoker' 'region' 'charges']\n",
      "\n",
      "Number of rows and columns in the dataset: (1338, 7)\n",
      "\n",
      "Columns in data frame after encoding dummy variable:\n",
      " ['age' 'bmi' 'charges' 'OHE_male' 'OHE_1' 'OHE_2' 'OHE_3' 'OHE_4' 'OHE_5'\n",
      " 'OHE_yes' 'OHE_northwest' 'OHE_southeast' 'OHE_southwest']\n",
      "\n",
      "Number of rows and columns in the dataset: (1338, 13)\n"
     ]
    }
   ],
   "source": [
    "# Encode categorical columns\n",
    "categorical_columns = ['sex','children', 'smoker', 'region']\n",
    "insurance_data_encode = pd.get_dummies(data=insurance_data, columns=categorical_columns, prefix='OHE', prefix_sep='_', drop_first=True)\n",
    "print('Columns in original data frame:\\n',insurance_data.columns.values)\n",
    "print('\\nNumber of rows and columns in the dataset:',insurance_data.shape)\n",
    "print('\\nColumns in data frame after encoding dummy variable:\\n',insurance_data_encode.columns.values)\n",
    "print('\\nNumber of rows and columns in the dataset:',insurance_data_encode.shape)"
   ]
  },
  {
   "cell_type": "code",
   "execution_count": 4,
   "id": "468f0441",
   "metadata": {},
   "outputs": [],
   "source": [
    "# Create dataframe to save the results of each model\n",
    "results_df = pd.DataFrame([], columns=['model','train_error', 'test_error', 'Train_r2', 'Test_r2'])"
   ]
  },
  {
   "cell_type": "code",
   "execution_count": 5,
   "id": "a4fe4ea3",
   "metadata": {},
   "outputs": [],
   "source": [
    "# Split dataset into train & test sets in ratio 70:30\n",
    "X = insurance_data_encode.drop(columns=['charges']) # Independent features\n",
    "y = insurance_data_encode['charges'] # Dependent features\n",
    "X_train, X_test, y_train, y_test = train_test_split(X, y, test_size=0.3, random_state=23)  "
   ]
  },
  {
   "cell_type": "markdown",
   "id": "1a0f747f",
   "metadata": {},
   "source": [
    "##### Linear Regression with all variables"
   ]
  },
  {
   "cell_type": "code",
   "execution_count": 6,
   "id": "95434dc8",
   "metadata": {},
   "outputs": [],
   "source": [
    "# Fit a linear regression model with all features and without scaling\n",
    "lr = LinearRegression()\n",
    "lr.fit(X_train, y_train)\n",
    "\n",
    "test_pred = lr.predict(X_test)\n",
    "train_pred = lr.predict(X_train)\n",
    "\n",
    "train_rmse = np.sqrt(mean_squared_error(y_train, train_pred))\n",
    "test_rmse = np.sqrt(mean_squared_error(y_test, test_pred))\n",
    "\n",
    "train_r2 = r2_score(y_train, train_pred)\n",
    "test_r2 = r2_score(y_test, test_pred)"
   ]
  },
  {
   "cell_type": "code",
   "execution_count": 7,
   "id": "6ea86c8f",
   "metadata": {},
   "outputs": [
    {
     "data": {
      "text/html": [
       "<div>\n",
       "<style scoped>\n",
       "    .dataframe tbody tr th:only-of-type {\n",
       "        vertical-align: middle;\n",
       "    }\n",
       "\n",
       "    .dataframe tbody tr th {\n",
       "        vertical-align: top;\n",
       "    }\n",
       "\n",
       "    .dataframe thead th {\n",
       "        text-align: right;\n",
       "    }\n",
       "</style>\n",
       "<table border=\"1\" class=\"dataframe\">\n",
       "  <thead>\n",
       "    <tr style=\"text-align: right;\">\n",
       "      <th></th>\n",
       "      <th>model</th>\n",
       "      <th>train_error</th>\n",
       "      <th>test_error</th>\n",
       "      <th>Train_r2</th>\n",
       "      <th>Test_r2</th>\n",
       "    </tr>\n",
       "  </thead>\n",
       "  <tbody>\n",
       "    <tr>\n",
       "      <th>0</th>\n",
       "      <td>LR_All Vars</td>\n",
       "      <td>6087.120951</td>\n",
       "      <td>5928.918519</td>\n",
       "      <td>0.75787</td>\n",
       "      <td>0.730528</td>\n",
       "    </tr>\n",
       "  </tbody>\n",
       "</table>\n",
       "</div>"
      ],
      "text/plain": [
       "         model  train_error   test_error  Train_r2   Test_r2\n",
       "0  LR_All Vars  6087.120951  5928.918519   0.75787  0.730528"
      ]
     },
     "execution_count": 7,
     "metadata": {},
     "output_type": "execute_result"
    }
   ],
   "source": [
    "results_df.loc[len(results_df.index)] = ['LR_All Vars', train_rmse, test_rmse, train_r2, test_r2]\n",
    "results_df"
   ]
  },
  {
   "cell_type": "markdown",
   "id": "93f1979c",
   "metadata": {},
   "source": [
    "##### Linear Regression with scaled data"
   ]
  },
  {
   "cell_type": "code",
   "execution_count": 8,
   "id": "a28ecdbd",
   "metadata": {},
   "outputs": [],
   "source": [
    "# Scale Data\n",
    "scaler = MinMaxScaler()\n",
    "X_train[['age', 'bmi']] = scaler.fit_transform(X_train[['age', 'bmi']])\n",
    "X_test[['age', 'bmi']] = scaler.transform(X_test[['age', 'bmi']])"
   ]
  },
  {
   "cell_type": "code",
   "execution_count": 9,
   "id": "ef775e42",
   "metadata": {},
   "outputs": [],
   "source": [
    "lr1 = LinearRegression()\n",
    "lr1.fit(X_train, y_train)\n",
    "\n",
    "test_pred = lr1.predict(X_test)\n",
    "train_pred = lr1.predict(X_train)\n",
    "\n",
    "train_rmse = np.sqrt(mean_squared_error(y_train, train_pred))\n",
    "test_rmse = np.sqrt(mean_squared_error(y_test, test_pred))\n",
    "\n",
    "train_r2 = r2_score(y_train, train_pred)\n",
    "test_r2 = r2_score(y_test, test_pred)"
   ]
  },
  {
   "cell_type": "code",
   "execution_count": 10,
   "id": "0e387a5d",
   "metadata": {},
   "outputs": [
    {
     "data": {
      "text/html": [
       "<div>\n",
       "<style scoped>\n",
       "    .dataframe tbody tr th:only-of-type {\n",
       "        vertical-align: middle;\n",
       "    }\n",
       "\n",
       "    .dataframe tbody tr th {\n",
       "        vertical-align: top;\n",
       "    }\n",
       "\n",
       "    .dataframe thead th {\n",
       "        text-align: right;\n",
       "    }\n",
       "</style>\n",
       "<table border=\"1\" class=\"dataframe\">\n",
       "  <thead>\n",
       "    <tr style=\"text-align: right;\">\n",
       "      <th></th>\n",
       "      <th>model</th>\n",
       "      <th>train_error</th>\n",
       "      <th>test_error</th>\n",
       "      <th>Train_r2</th>\n",
       "      <th>Test_r2</th>\n",
       "    </tr>\n",
       "  </thead>\n",
       "  <tbody>\n",
       "    <tr>\n",
       "      <th>0</th>\n",
       "      <td>LR_All Vars</td>\n",
       "      <td>6087.120951</td>\n",
       "      <td>5928.918519</td>\n",
       "      <td>0.75787</td>\n",
       "      <td>0.730528</td>\n",
       "    </tr>\n",
       "    <tr>\n",
       "      <th>1</th>\n",
       "      <td>LR_Scaled All Vars</td>\n",
       "      <td>6087.120951</td>\n",
       "      <td>5928.918519</td>\n",
       "      <td>0.75787</td>\n",
       "      <td>0.730528</td>\n",
       "    </tr>\n",
       "  </tbody>\n",
       "</table>\n",
       "</div>"
      ],
      "text/plain": [
       "                model  train_error   test_error  Train_r2   Test_r2\n",
       "0         LR_All Vars  6087.120951  5928.918519   0.75787  0.730528\n",
       "1  LR_Scaled All Vars  6087.120951  5928.918519   0.75787  0.730528"
      ]
     },
     "execution_count": 10,
     "metadata": {},
     "output_type": "execute_result"
    }
   ],
   "source": [
    "results_df.loc[len(results_df.index)] = ['LR_Scaled All Vars', train_rmse, test_rmse, train_r2, test_r2]\n",
    "results_df"
   ]
  },
  {
   "cell_type": "markdown",
   "id": "5f4d3e36",
   "metadata": {},
   "source": [
    "**Observation:** No improvement in training/test error due to scaling"
   ]
  },
  {
   "cell_type": "markdown",
   "id": "feb00879",
   "metadata": {},
   "source": [
    "##### With only correlated features"
   ]
  },
  {
   "cell_type": "code",
   "execution_count": 11,
   "id": "0751a84a",
   "metadata": {},
   "outputs": [],
   "source": [
    "# Split dataset into train & test sets\n",
    "X = insurance_data_encode[['age', 'bmi', 'OHE_yes']] # Independent features\n",
    "y = insurance_data_encode['charges'] # Dependent features\n",
    "X_train, X_test, y_train, y_test = train_test_split(X, y, test_size=0.3, random_state=23)  "
   ]
  },
  {
   "cell_type": "code",
   "execution_count": 12,
   "id": "dab1903d",
   "metadata": {},
   "outputs": [],
   "source": [
    "lr2 = LinearRegression()\n",
    "lr2.fit(X_train, y_train)\n",
    "\n",
    "test_pred = lr2.predict(X_test)\n",
    "train_pred = lr2.predict(X_train)\n",
    "\n",
    "train_rmse = np.sqrt(mean_squared_error(y_train, train_pred))\n",
    "test_rmse = np.sqrt(mean_squared_error(y_test, test_pred))"
   ]
  },
  {
   "cell_type": "code",
   "execution_count": 13,
   "id": "d8988df4",
   "metadata": {},
   "outputs": [
    {
     "data": {
      "text/html": [
       "<div>\n",
       "<style scoped>\n",
       "    .dataframe tbody tr th:only-of-type {\n",
       "        vertical-align: middle;\n",
       "    }\n",
       "\n",
       "    .dataframe tbody tr th {\n",
       "        vertical-align: top;\n",
       "    }\n",
       "\n",
       "    .dataframe thead th {\n",
       "        text-align: right;\n",
       "    }\n",
       "</style>\n",
       "<table border=\"1\" class=\"dataframe\">\n",
       "  <thead>\n",
       "    <tr style=\"text-align: right;\">\n",
       "      <th></th>\n",
       "      <th>model</th>\n",
       "      <th>train_error</th>\n",
       "      <th>test_error</th>\n",
       "      <th>Train_r2</th>\n",
       "      <th>Test_r2</th>\n",
       "    </tr>\n",
       "  </thead>\n",
       "  <tbody>\n",
       "    <tr>\n",
       "      <th>0</th>\n",
       "      <td>LR_All Vars</td>\n",
       "      <td>6087.120951</td>\n",
       "      <td>5928.918519</td>\n",
       "      <td>0.757870</td>\n",
       "      <td>0.730528</td>\n",
       "    </tr>\n",
       "    <tr>\n",
       "      <th>1</th>\n",
       "      <td>LR_Scaled All Vars</td>\n",
       "      <td>6087.120951</td>\n",
       "      <td>5928.918519</td>\n",
       "      <td>0.757870</td>\n",
       "      <td>0.730528</td>\n",
       "    </tr>\n",
       "    <tr>\n",
       "      <th>2</th>\n",
       "      <td>LR_Correlated</td>\n",
       "      <td>6157.675120</td>\n",
       "      <td>5920.647746</td>\n",
       "      <td>0.752225</td>\n",
       "      <td>0.731280</td>\n",
       "    </tr>\n",
       "  </tbody>\n",
       "</table>\n",
       "</div>"
      ],
      "text/plain": [
       "                model  train_error   test_error  Train_r2   Test_r2\n",
       "0         LR_All Vars  6087.120951  5928.918519  0.757870  0.730528\n",
       "1  LR_Scaled All Vars  6087.120951  5928.918519  0.757870  0.730528\n",
       "2       LR_Correlated  6157.675120  5920.647746  0.752225  0.731280"
      ]
     },
     "execution_count": 13,
     "metadata": {},
     "output_type": "execute_result"
    }
   ],
   "source": [
    "results_df.loc[len(results_df.index)] = ['LR_Correlated', train_rmse, test_rmse, lr2.score(X_train, y_train), lr2.score(X_test, y_test) ]\n",
    "results_df"
   ]
  },
  {
   "cell_type": "markdown",
   "id": "227b9d6f",
   "metadata": {},
   "source": [
    "##### Fit a polynomial model\n",
    "\n",
    "We can now increase the model complexity by including polynomial features of various degrees. In order to find the best polynomial degree that would best the dataset, we run the regression model on different polynomial degree features from 1 to 10."
   ]
  },
  {
   "cell_type": "code",
   "execution_count": 14,
   "id": "22bb810a",
   "metadata": {},
   "outputs": [],
   "source": [
    "def fit_poly(train, y_train, test, y_test, degrees):\n",
    "\n",
    "    features = PolynomialFeatures(degree=degrees, include_bias=False)\n",
    "    train_trans = features.fit_transform(train)\n",
    "    \n",
    "    model = LinearRegression()\n",
    "    model.fit(train_trans, y_train)\n",
    "    \n",
    "    train_predictions = model.predict(train_trans)\n",
    "    training_error = np.sqrt(mean_squared_error(y_train, train_predictions))\n",
    "    \n",
    "    test_trans = features.fit_transform(test)\n",
    "    test_predictions = model.predict(test_trans)\n",
    "    testing_error = np.sqrt(mean_squared_error(y_test, test_predictions))\n",
    "    \n",
    "    return training_error, testing_error, r2_score(y_train, train_predictions), r2_score(y_test, test_predictions)"
   ]
  },
  {
   "cell_type": "code",
   "execution_count": 15,
   "id": "c962a3d6",
   "metadata": {},
   "outputs": [],
   "source": [
    "# Split dataset into train & test sets\n",
    "X = insurance_data_encode.drop(columns=['charges']) # Independent features\n",
    "y = insurance_data_encode['charges'] # Dependent features\n",
    "X_train, X_test, y_train, y_test = train_test_split(X, y, test_size=0.3, random_state=23)  "
   ]
  },
  {
   "cell_type": "code",
   "execution_count": 16,
   "id": "62ba4b9e",
   "metadata": {},
   "outputs": [
    {
     "data": {
      "text/html": [
       "<div>\n",
       "<style scoped>\n",
       "    .dataframe tbody tr th:only-of-type {\n",
       "        vertical-align: middle;\n",
       "    }\n",
       "\n",
       "    .dataframe tbody tr th {\n",
       "        vertical-align: top;\n",
       "    }\n",
       "\n",
       "    .dataframe thead th {\n",
       "        text-align: right;\n",
       "    }\n",
       "</style>\n",
       "<table border=\"1\" class=\"dataframe\">\n",
       "  <thead>\n",
       "    <tr style=\"text-align: right;\">\n",
       "      <th></th>\n",
       "      <th>train_error</th>\n",
       "      <th>test_error</th>\n",
       "    </tr>\n",
       "  </thead>\n",
       "  <tbody>\n",
       "    <tr>\n",
       "      <th>1</th>\n",
       "      <td>6087.120951</td>\n",
       "      <td>5.928919e+03</td>\n",
       "    </tr>\n",
       "    <tr>\n",
       "      <th>2</th>\n",
       "      <td>4601.114368</td>\n",
       "      <td>4.913276e+03</td>\n",
       "    </tr>\n",
       "    <tr>\n",
       "      <th>3</th>\n",
       "      <td>4245.508867</td>\n",
       "      <td>7.043651e+03</td>\n",
       "    </tr>\n",
       "    <tr>\n",
       "      <th>4</th>\n",
       "      <td>3753.152871</td>\n",
       "      <td>7.193522e+03</td>\n",
       "    </tr>\n",
       "    <tr>\n",
       "      <th>5</th>\n",
       "      <td>2915.949843</td>\n",
       "      <td>9.423187e+04</td>\n",
       "    </tr>\n",
       "    <tr>\n",
       "      <th>6</th>\n",
       "      <td>2152.778581</td>\n",
       "      <td>9.225749e+06</td>\n",
       "    </tr>\n",
       "    <tr>\n",
       "      <th>7</th>\n",
       "      <td>1875.442558</td>\n",
       "      <td>1.010082e+07</td>\n",
       "    </tr>\n",
       "    <tr>\n",
       "      <th>8</th>\n",
       "      <td>1349.549926</td>\n",
       "      <td>1.404983e+07</td>\n",
       "    </tr>\n",
       "    <tr>\n",
       "      <th>9</th>\n",
       "      <td>1201.230103</td>\n",
       "      <td>7.451754e+06</td>\n",
       "    </tr>\n",
       "    <tr>\n",
       "      <th>10</th>\n",
       "      <td>1002.873261</td>\n",
       "      <td>5.691233e+06</td>\n",
       "    </tr>\n",
       "  </tbody>\n",
       "</table>\n",
       "</div>"
      ],
      "text/plain": [
       "    train_error    test_error\n",
       "1   6087.120951  5.928919e+03\n",
       "2   4601.114368  4.913276e+03\n",
       "3   4245.508867  7.043651e+03\n",
       "4   3753.152871  7.193522e+03\n",
       "5   2915.949843  9.423187e+04\n",
       "6   2152.778581  9.225749e+06\n",
       "7   1875.442558  1.010082e+07\n",
       "8   1349.549926  1.404983e+07\n",
       "9   1201.230103  7.451754e+06\n",
       "10  1002.873261  5.691233e+06"
      ]
     },
     "execution_count": 16,
     "metadata": {},
     "output_type": "execute_result"
    }
   ],
   "source": [
    "degrees = [int(x) for x in np.linspace(1, 10, 10)]\n",
    "poly_df = pd.DataFrame(0, columns=['train_error', 'test_error'], index=degrees)\n",
    "for degree in degrees:\n",
    "    degree_results = fit_poly(X_train, y_train, X_test, y_test, degrees = degree)\n",
    "    poly_df.loc[degree, 'train_error'] = degree_results[0]\n",
    "    poly_df.loc[degree, 'test_error'] = degree_results[1]\n",
    "poly_df"
   ]
  },
  {
   "cell_type": "markdown",
   "id": "190126c8",
   "metadata": {},
   "source": [
    "**Observation:** Training error keeps decreasing on as degree of polynomial increases. But test error drops till degree 2 and then increases. Thus as degree of polynomials increases, there is overfitting on training data. Hence the model performs well on training data but performs poorly on unseen test data. Hence polynomial of degree 2 is suitable. "
   ]
  },
  {
   "cell_type": "markdown",
   "id": "8e68d649",
   "metadata": {},
   "source": [
    "##### Linear Regression - All vars, Polynomial Degree 2"
   ]
  },
  {
   "cell_type": "code",
   "execution_count": 17,
   "id": "4e28ca4e",
   "metadata": {},
   "outputs": [
    {
     "data": {
      "text/html": [
       "<div>\n",
       "<style scoped>\n",
       "    .dataframe tbody tr th:only-of-type {\n",
       "        vertical-align: middle;\n",
       "    }\n",
       "\n",
       "    .dataframe tbody tr th {\n",
       "        vertical-align: top;\n",
       "    }\n",
       "\n",
       "    .dataframe thead th {\n",
       "        text-align: right;\n",
       "    }\n",
       "</style>\n",
       "<table border=\"1\" class=\"dataframe\">\n",
       "  <thead>\n",
       "    <tr style=\"text-align: right;\">\n",
       "      <th></th>\n",
       "      <th>model</th>\n",
       "      <th>train_error</th>\n",
       "      <th>test_error</th>\n",
       "      <th>Train_r2</th>\n",
       "      <th>Test_r2</th>\n",
       "    </tr>\n",
       "  </thead>\n",
       "  <tbody>\n",
       "    <tr>\n",
       "      <th>0</th>\n",
       "      <td>LR_All Vars</td>\n",
       "      <td>6087.120951</td>\n",
       "      <td>5928.918519</td>\n",
       "      <td>0.757870</td>\n",
       "      <td>0.730528</td>\n",
       "    </tr>\n",
       "    <tr>\n",
       "      <th>1</th>\n",
       "      <td>LR_Scaled All Vars</td>\n",
       "      <td>6087.120951</td>\n",
       "      <td>5928.918519</td>\n",
       "      <td>0.757870</td>\n",
       "      <td>0.730528</td>\n",
       "    </tr>\n",
       "    <tr>\n",
       "      <th>2</th>\n",
       "      <td>LR_Correlated</td>\n",
       "      <td>6157.675120</td>\n",
       "      <td>5920.647746</td>\n",
       "      <td>0.752225</td>\n",
       "      <td>0.731280</td>\n",
       "    </tr>\n",
       "    <tr>\n",
       "      <th>3</th>\n",
       "      <td>LR_Poly2</td>\n",
       "      <td>4601.114368</td>\n",
       "      <td>4913.275630</td>\n",
       "      <td>0.861659</td>\n",
       "      <td>0.814944</td>\n",
       "    </tr>\n",
       "  </tbody>\n",
       "</table>\n",
       "</div>"
      ],
      "text/plain": [
       "                model  train_error   test_error  Train_r2   Test_r2\n",
       "0         LR_All Vars  6087.120951  5928.918519  0.757870  0.730528\n",
       "1  LR_Scaled All Vars  6087.120951  5928.918519  0.757870  0.730528\n",
       "2       LR_Correlated  6157.675120  5920.647746  0.752225  0.731280\n",
       "3            LR_Poly2  4601.114368  4913.275630  0.861659  0.814944"
      ]
     },
     "execution_count": 17,
     "metadata": {},
     "output_type": "execute_result"
    }
   ],
   "source": [
    "degree_results = fit_poly(X_train, y_train, X_test, y_test, degrees = 2)\n",
    "results_df.loc[len(results_df.index)] = ['LR_Poly2', degree_results[0], degree_results[1], degree_results[2], degree_results[3]]\n",
    "results_df"
   ]
  },
  {
   "cell_type": "markdown",
   "id": "6bde966c",
   "metadata": {},
   "source": [
    "##### Linear Regression with correlated features - Polynomial features"
   ]
  },
  {
   "cell_type": "code",
   "execution_count": 18,
   "id": "bf299303",
   "metadata": {},
   "outputs": [
    {
     "data": {
      "text/html": [
       "<div>\n",
       "<style scoped>\n",
       "    .dataframe tbody tr th:only-of-type {\n",
       "        vertical-align: middle;\n",
       "    }\n",
       "\n",
       "    .dataframe tbody tr th {\n",
       "        vertical-align: top;\n",
       "    }\n",
       "\n",
       "    .dataframe thead th {\n",
       "        text-align: right;\n",
       "    }\n",
       "</style>\n",
       "<table border=\"1\" class=\"dataframe\">\n",
       "  <thead>\n",
       "    <tr style=\"text-align: right;\">\n",
       "      <th></th>\n",
       "      <th>train_error</th>\n",
       "      <th>test_error</th>\n",
       "    </tr>\n",
       "  </thead>\n",
       "  <tbody>\n",
       "    <tr>\n",
       "      <th>1</th>\n",
       "      <td>6157.675120</td>\n",
       "      <td>5920.647746</td>\n",
       "    </tr>\n",
       "    <tr>\n",
       "      <th>2</th>\n",
       "      <td>4834.039923</td>\n",
       "      <td>4950.455269</td>\n",
       "    </tr>\n",
       "    <tr>\n",
       "      <th>3</th>\n",
       "      <td>4782.974028</td>\n",
       "      <td>4973.950158</td>\n",
       "    </tr>\n",
       "    <tr>\n",
       "      <th>4</th>\n",
       "      <td>4716.021754</td>\n",
       "      <td>4793.604530</td>\n",
       "    </tr>\n",
       "    <tr>\n",
       "      <th>5</th>\n",
       "      <td>4630.413574</td>\n",
       "      <td>4717.864625</td>\n",
       "    </tr>\n",
       "    <tr>\n",
       "      <th>6</th>\n",
       "      <td>4572.699113</td>\n",
       "      <td>4672.902956</td>\n",
       "    </tr>\n",
       "    <tr>\n",
       "      <th>7</th>\n",
       "      <td>4511.568971</td>\n",
       "      <td>5161.615189</td>\n",
       "    </tr>\n",
       "    <tr>\n",
       "      <th>8</th>\n",
       "      <td>4510.086175</td>\n",
       "      <td>5738.127398</td>\n",
       "    </tr>\n",
       "    <tr>\n",
       "      <th>9</th>\n",
       "      <td>4478.708179</td>\n",
       "      <td>5089.207041</td>\n",
       "    </tr>\n",
       "    <tr>\n",
       "      <th>10</th>\n",
       "      <td>4498.565963</td>\n",
       "      <td>5341.405958</td>\n",
       "    </tr>\n",
       "  </tbody>\n",
       "</table>\n",
       "</div>"
      ],
      "text/plain": [
       "    train_error   test_error\n",
       "1   6157.675120  5920.647746\n",
       "2   4834.039923  4950.455269\n",
       "3   4782.974028  4973.950158\n",
       "4   4716.021754  4793.604530\n",
       "5   4630.413574  4717.864625\n",
       "6   4572.699113  4672.902956\n",
       "7   4511.568971  5161.615189\n",
       "8   4510.086175  5738.127398\n",
       "9   4478.708179  5089.207041\n",
       "10  4498.565963  5341.405958"
      ]
     },
     "execution_count": 18,
     "metadata": {},
     "output_type": "execute_result"
    }
   ],
   "source": [
    "# Split dataset into train & test sets\n",
    "X = insurance_data_encode[['age', 'bmi', 'OHE_yes']] # Independent features\n",
    "y = insurance_data_encode['charges'] # Dependent features\n",
    "X_train, X_test, y_train, y_test = train_test_split(X, y, test_size=0.3, random_state=23)  \n",
    "\n",
    "degrees = [int(x) for x in np.linspace(1, 10, 10)]\n",
    "poly_df = pd.DataFrame(0, columns=['train_error', 'test_error'], index=degrees)\n",
    "for degree in degrees:\n",
    "    degree_results = fit_poly(X_train, y_train, X_test, y_test, degrees = degree)\n",
    "    poly_df.loc[degree, 'train_error'] = degree_results[0]\n",
    "    poly_df.loc[degree, 'test_error'] = degree_results[1]\n",
    "poly_df"
   ]
  },
  {
   "cell_type": "markdown",
   "id": "cc81d918",
   "metadata": {},
   "source": [
    "**Observation:** With only correlated features, the test error is minimum for polynomial degree 6"
   ]
  },
  {
   "cell_type": "markdown",
   "id": "c2aa19ef",
   "metadata": {},
   "source": [
    "##### Linear Regression - Correlated vars, Polynomial Degree 6"
   ]
  },
  {
   "cell_type": "code",
   "execution_count": 19,
   "id": "ca1f0c9e",
   "metadata": {},
   "outputs": [
    {
     "data": {
      "text/html": [
       "<div>\n",
       "<style scoped>\n",
       "    .dataframe tbody tr th:only-of-type {\n",
       "        vertical-align: middle;\n",
       "    }\n",
       "\n",
       "    .dataframe tbody tr th {\n",
       "        vertical-align: top;\n",
       "    }\n",
       "\n",
       "    .dataframe thead th {\n",
       "        text-align: right;\n",
       "    }\n",
       "</style>\n",
       "<table border=\"1\" class=\"dataframe\">\n",
       "  <thead>\n",
       "    <tr style=\"text-align: right;\">\n",
       "      <th></th>\n",
       "      <th>model</th>\n",
       "      <th>train_error</th>\n",
       "      <th>test_error</th>\n",
       "      <th>Train_r2</th>\n",
       "      <th>Test_r2</th>\n",
       "    </tr>\n",
       "  </thead>\n",
       "  <tbody>\n",
       "    <tr>\n",
       "      <th>0</th>\n",
       "      <td>LR_All Vars</td>\n",
       "      <td>6087.120951</td>\n",
       "      <td>5928.918519</td>\n",
       "      <td>0.757870</td>\n",
       "      <td>0.730528</td>\n",
       "    </tr>\n",
       "    <tr>\n",
       "      <th>1</th>\n",
       "      <td>LR_Scaled All Vars</td>\n",
       "      <td>6087.120951</td>\n",
       "      <td>5928.918519</td>\n",
       "      <td>0.757870</td>\n",
       "      <td>0.730528</td>\n",
       "    </tr>\n",
       "    <tr>\n",
       "      <th>2</th>\n",
       "      <td>LR_Correlated</td>\n",
       "      <td>6157.675120</td>\n",
       "      <td>5920.647746</td>\n",
       "      <td>0.752225</td>\n",
       "      <td>0.731280</td>\n",
       "    </tr>\n",
       "    <tr>\n",
       "      <th>3</th>\n",
       "      <td>LR_Poly2</td>\n",
       "      <td>4601.114368</td>\n",
       "      <td>4913.275630</td>\n",
       "      <td>0.861659</td>\n",
       "      <td>0.814944</td>\n",
       "    </tr>\n",
       "    <tr>\n",
       "      <th>4</th>\n",
       "      <td>LR_Poly6</td>\n",
       "      <td>4572.699113</td>\n",
       "      <td>4672.902956</td>\n",
       "      <td>0.863363</td>\n",
       "      <td>0.832608</td>\n",
       "    </tr>\n",
       "  </tbody>\n",
       "</table>\n",
       "</div>"
      ],
      "text/plain": [
       "                model  train_error   test_error  Train_r2   Test_r2\n",
       "0         LR_All Vars  6087.120951  5928.918519  0.757870  0.730528\n",
       "1  LR_Scaled All Vars  6087.120951  5928.918519  0.757870  0.730528\n",
       "2       LR_Correlated  6157.675120  5920.647746  0.752225  0.731280\n",
       "3            LR_Poly2  4601.114368  4913.275630  0.861659  0.814944\n",
       "4            LR_Poly6  4572.699113  4672.902956  0.863363  0.832608"
      ]
     },
     "execution_count": 19,
     "metadata": {},
     "output_type": "execute_result"
    }
   ],
   "source": [
    "degree_results = fit_poly(X_train, y_train, X_test, y_test, degrees = 6)\n",
    "results_df.loc[len(results_df.index)] = ['LR_Poly6', degree_results[0], degree_results[1], degree_results[2], degree_results[3]]\n",
    "results_df"
   ]
  },
  {
   "cell_type": "markdown",
   "id": "b101f73a",
   "metadata": {},
   "source": [
    "**Conclusion:** Fitting a polynomial of degree 6 using correlated features gives the best model performance for this dataset"
   ]
  }
 ],
 "metadata": {
  "kernelspec": {
   "display_name": "Python 3 (ipykernel)",
   "language": "python",
   "name": "python3"
  },
  "language_info": {
   "codemirror_mode": {
    "name": "ipython",
    "version": 3
   },
   "file_extension": ".py",
   "mimetype": "text/x-python",
   "name": "python",
   "nbconvert_exporter": "python",
   "pygments_lexer": "ipython3",
   "version": "3.11.4"
  }
 },
 "nbformat": 4,
 "nbformat_minor": 5
}
